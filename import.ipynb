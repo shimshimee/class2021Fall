{
  "nbformat": 4,
  "nbformat_minor": 0,
  "metadata": {
    "colab": {
      "name": "import.ipynb",
      "provenance": [],
      "authorship_tag": "ABX9TyP2wM2Ob1NP+7kyyleThasP",
      "include_colab_link": true
    },
    "kernelspec": {
      "name": "python3",
      "display_name": "Python 3"
    },
    "language_info": {
      "name": "python"
    }
  },
  "cells": [
    {
      "cell_type": "markdown",
      "metadata": {
        "id": "view-in-github",
        "colab_type": "text"
      },
      "source": [
        "<a href=\"https://colab.research.google.com/github/shimshimee/class2021Fall/blob/main/import.ipynb\" target=\"_parent\"><img src=\"https://colab.research.google.com/assets/colab-badge.svg\" alt=\"Open In Colab\"/></a>"
      ]
    },
    {
      "cell_type": "code",
      "metadata": {
        "id": "ndE7_OytblW7"
      },
      "source": [
        "import numpy as np          #numpy: 패키지/ random: 폴더/ randn: 함수\n",
        "n = np.random.randn(100)"
      ],
      "execution_count": 8,
      "outputs": []
    },
    {
      "cell_type": "code",
      "metadata": {
        "id": "qo3sS5DvbrpY"
      },
      "source": [
        "import matplotlib\n",
        "import matplotlib.pyplot\n",
        "from matplotlib import pyplot\n",
        "from matplotlib.pyplot import hist"
      ],
      "execution_count": 6,
      "outputs": []
    },
    {
      "cell_type": "code",
      "metadata": {
        "colab": {
          "base_uri": "https://localhost:8080/",
          "height": 758
        },
        "id": "UNj3DFkRbVR6",
        "outputId": "3070105f-3ea1-4eb5-b365-51d20b9482e7"
      },
      "source": [
        "matplotlib.pyplot.hist(n, bins = 100)\n",
        "#random number와 bin(막대) 개수가 커질수록 정규분포에 가까움"
      ],
      "execution_count": 9,
      "outputs": [
        {
          "output_type": "execute_result",
          "data": {
            "text/plain": [
              "(array([1., 1., 0., 0., 0., 1., 1., 0., 0., 2., 1., 1., 0., 2., 0., 1., 0.,\n",
              "        0., 2., 0., 0., 0., 0., 2., 1., 1., 1., 2., 1., 3., 1., 3., 4., 4.,\n",
              "        1., 1., 4., 0., 1., 2., 1., 1., 7., 2., 0., 5., 2., 1., 0., 0., 2.,\n",
              "        3., 0., 1., 1., 1., 4., 0., 0., 1., 3., 2., 1., 1., 1., 0., 3., 1.,\n",
              "        2., 0., 0., 1., 0., 1., 0., 0., 1., 1., 0., 0., 0., 0., 0., 0., 0.,\n",
              "        0., 0., 0., 1., 0., 0., 1., 0., 1., 0., 0., 0., 1., 0., 1.]),\n",
              " array([-1.99274284, -1.94653953, -1.90033622, -1.85413292, -1.80792961,\n",
              "        -1.76172631, -1.715523  , -1.6693197 , -1.62311639, -1.57691308,\n",
              "        -1.53070978, -1.48450647, -1.43830317, -1.39209986, -1.34589655,\n",
              "        -1.29969325, -1.25348994, -1.20728664, -1.16108333, -1.11488002,\n",
              "        -1.06867672, -1.02247341, -0.97627011, -0.9300668 , -0.8838635 ,\n",
              "        -0.83766019, -0.79145688, -0.74525358, -0.69905027, -0.65284697,\n",
              "        -0.60664366, -0.56044035, -0.51423705, -0.46803374, -0.42183044,\n",
              "        -0.37562713, -0.32942382, -0.28322052, -0.23701721, -0.19081391,\n",
              "        -0.1446106 , -0.0984073 , -0.05220399, -0.00600068,  0.04020262,\n",
              "         0.08640593,  0.13260923,  0.17881254,  0.22501585,  0.27121915,\n",
              "         0.31742246,  0.36362576,  0.40982907,  0.45603237,  0.50223568,\n",
              "         0.54843899,  0.59464229,  0.6408456 ,  0.6870489 ,  0.73325221,\n",
              "         0.77945552,  0.82565882,  0.87186213,  0.91806543,  0.96426874,\n",
              "         1.01047205,  1.05667535,  1.10287866,  1.14908196,  1.19528527,\n",
              "         1.24148857,  1.28769188,  1.33389519,  1.38009849,  1.4263018 ,\n",
              "         1.4725051 ,  1.51870841,  1.56491172,  1.61111502,  1.65731833,\n",
              "         1.70352163,  1.74972494,  1.79592825,  1.84213155,  1.88833486,\n",
              "         1.93453816,  1.98074147,  2.02694477,  2.07314808,  2.11935139,\n",
              "         2.16555469,  2.211758  ,  2.2579613 ,  2.30416461,  2.35036792,\n",
              "         2.39657122,  2.44277453,  2.48897783,  2.53518114,  2.58138445,\n",
              "         2.62758775]),\n",
              " <a list of 100 Patch objects>)"
            ]
          },
          "metadata": {},
          "execution_count": 9
        },
        {
          "output_type": "display_data",
          "data": {
            "image/png": "[encoded data removed]",
            "text/plain": [
              "<Figure size 432x288 with 1 Axes>"
            ]
          },
          "metadata": {
            "needs_background": "light"
          }
        }
      ]
    }
  ]
}