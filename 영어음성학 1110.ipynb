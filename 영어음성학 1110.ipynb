{
  "nbformat": 4,
  "nbformat_minor": 0,
  "metadata": {
    "colab": {
      "name": ".ipynb",
      "provenance": [],
      "authorship_tag": "ABX9TyMC2Up8PKddHYE1aSmd4q9U",
      "include_colab_link": true
    },
    "kernelspec": {
      "name": "python3",
      "display_name": "Python 3"
    },
    "language_info": {
      "name": "python"
    }
  },
  "cells": [
    {
      "cell_type": "markdown",
      "metadata": {
        "id": "view-in-github",
        "colab_type": "text"
      },
      "source": [
        "<a href=\"https://colab.research.google.com/github/shimshimee/class2021Fall/blob/main/%EC%98%81%EC%96%B4%EC%9D%8C%EC%84%B1%ED%95%99%201110.ipynb\" target=\"_parent\"><img src=\"https://colab.research.google.com/assets/colab-badge.svg\" alt=\"Open In Colab\"/></a>"
      ]
    },
    {
      "cell_type": "code",
      "metadata": {
        "colab": {
          "base_uri": "https://localhost:8080/"
        },
        "id": "1vZVMW9RXnUr",
        "outputId": "85fe7bc3-bea7-4f86-e97d-758f8238c20f"
      },
      "source": [
        "def add(a,b):\n",
        "  return a+b\n",
        "# add라는 이름의 함수를 정의함\n",
        "\n",
        "def subtract(a,b):\n",
        "  return a-b\n",
        "\n",
        "def multiply(a,b):\n",
        "  return a*b\n",
        "\n",
        "def divide(a,b):\n",
        "  return a/b\n",
        "\n",
        "def myfirstfunc(a, b, c):\n",
        "  d = a+b\n",
        "  e = d*4\n",
        "  f = e/c\n",
        "  return f\n",
        "\n",
        "myfirstfunc(1, 0, 2)"
      ],
      "execution_count": 9,
      "outputs": [
        {
          "output_type": "execute_result",
          "data": {
            "text/plain": [
              "2.0"
            ]
          },
          "metadata": {},
          "execution_count": 9
        }
      ]
    },
    {
      "cell_type": "code",
      "metadata": {
        "id": "2t-znUJvZq6K"
      },
      "source": [
        "def testfunc():\n",
        "  a = 1\n",
        "  b = 2\n",
        "  c = a + b\n",
        "# 반드시 함수의 입출력이 필요한 것은 아님"
      ],
      "execution_count": 11,
      "outputs": []
    }
  ]
}