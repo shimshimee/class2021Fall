{
  "nbformat": 4,
  "nbformat_minor": 0,
  "metadata": {
    "colab": {
      "name": "Untitled7.ipynb",
      "provenance": [],
      "authorship_tag": "ABX9TyMu1qGRCG76A3k0J44Z8Jqk",
      "include_colab_link": true
    },
    "kernelspec": {
      "name": "python3",
      "display_name": "Python 3"
    },
    "language_info": {
      "name": "python"
    }
  },
  "cells": [
    {
      "cell_type": "markdown",
      "metadata": {
        "id": "view-in-github",
        "colab_type": "text"
      },
      "source": [
        "<a href=\"https://colab.research.google.com/github/shimshimee/class2021Fall/blob/main/%EC%98%81%EC%96%B4%EC%9D%8C%EC%84%B1%ED%95%99%201108.ipynb\" target=\"_parent\"><img src=\"https://colab.research.google.com/assets/colab-badge.svg\" alt=\"Open In Colab\"/></a>"
      ]
    },
    {
      "cell_type": "markdown",
      "metadata": {
        "id": "ZNcDHU0wI_Zl"
      },
      "source": [
        "# **변수 (variables), 제어문 (syntax), 함수**"
      ]
    },
    {
      "cell_type": "code",
      "metadata": {
        "colab": {
          "base_uri": "https://localhost:8080/"
        },
        "id": "ah6mJfm4Hkcl",
        "outputId": "90b6dedf-2181-4a00-89c9-70926acd3e98"
      },
      "source": [
        "a = 1\n",
        "b = 1.1\n",
        "c = 'apple'\n",
        "d = [1, 2, 3, 'paint']\n",
        "e = {\"apple\": \"red fruit\", \"banana\": \"yellow fruit\"}\n",
        "\n",
        "print(type(a)) #정수\n",
        "print(type(b)) #소수\n",
        "print(type(c)) #문자열\n",
        "print(type(d)) #대괄호\n",
        "print(type(e)) #중괄호\n",
        "\n",
        "print(d[1]) #d의 2번째에 접근, dictionary는 불가\n",
        "print(d[3][0]) #d의 4번째의 1번째에 접근\n",
        "print(e[\"apple\"])"
      ],
      "execution_count": 13,
      "outputs": [
        {
          "output_type": "stream",
          "name": "stdout",
          "text": [
            "<class 'int'>\n",
            "<class 'float'>\n",
            "<class 'str'>\n",
            "<class 'list'>\n",
            "<class 'dict'>\n",
            "2\n",
            "p\n",
            "red fruit\n"
          ]
        }
      ]
    },
    {
      "cell_type": "code",
      "metadata": {
        "colab": {
          "base_uri": "https://localhost:8080/"
        },
        "id": "KjZT9WJREsdq",
        "outputId": "a1339e9c-87d2-40f3-b9ab-7ef3d3dd182b"
      },
      "source": [
        "a = [1, 2, 3, 4]\n",
        "for i in a :\n",
        "  print(i)\n",
        "print(i+1) #마지막에 i에 4가 들어갔기 때문에 5가 찍힘"
      ],
      "execution_count": 7,
      "outputs": [
        {
          "output_type": "stream",
          "name": "stdout",
          "text": [
            "1\n",
            "2\n",
            "3\n",
            "4\n",
            "5\n"
          ]
        }
      ]
    },
    {
      "cell_type": "code",
      "metadata": {
        "colab": {
          "base_uri": "https://localhost:8080/"
        },
        "id": "VDNdUgSRHCDj",
        "outputId": "0d789702-61ad-4c06-fc80-4505ea67db37"
      },
      "source": [
        "for i in range(4) : #0부터 4개의 숫자\n",
        "  print(i)"
      ],
      "execution_count": 18,
      "outputs": [
        {
          "output_type": "stream",
          "name": "stdout",
          "text": [
            "1\n",
            "2\n",
            "3\n",
            "4\n"
          ]
        }
      ]
    },
    {
      "cell_type": "code",
      "metadata": {
        "colab": {
          "base_uri": "https://localhost:8080/"
        },
        "id": "ea6Iz59MKQMR",
        "outputId": "874070d2-3d97-43c4-8eae-77c4f2e5513c"
      },
      "source": [
        "a = [1, 2, 3, 4]\n",
        "for i in range(len(a)) :\n",
        "  print(a[i])"
      ],
      "execution_count": 19,
      "outputs": [
        {
          "output_type": "stream",
          "name": "stdout",
          "text": [
            "1\n",
            "2\n",
            "3\n",
            "4\n"
          ]
        }
      ]
    },
    {
      "cell_type": "code",
      "metadata": {
        "colab": {
          "base_uri": "https://localhost:8080/"
        },
        "id": "5ODQDNPfIh6Q",
        "outputId": "dcaed1bd-e2fd-40b1-ba23-9d9d998f392b"
      },
      "source": [
        "a = 1\n",
        "if a == 0 :\n",
        "  print(a)\n",
        "else:\n",
        "  print(a+1)"
      ],
      "execution_count": 17,
      "outputs": [
        {
          "output_type": "stream",
          "name": "stdout",
          "text": [
            "2\n"
          ]
        }
      ]
    }
  ]
}