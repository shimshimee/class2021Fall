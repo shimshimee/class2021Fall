{
  "nbformat": 4,
  "nbformat_minor": 0,
  "metadata": {
    "colab": {
      "name": "Untitled7.ipynb",
      "provenance": [],
      "authorship_tag": "ABX9TyMkJFjxtm8TSNWH4YCFy0MW",
      "include_colab_link": true
    },
    "kernelspec": {
      "name": "python3",
      "display_name": "Python 3"
    },
    "language_info": {
      "name": "python"
    }
  },
  "cells": [
    {
      "cell_type": "markdown",
      "metadata": {
        "id": "view-in-github",
        "colab_type": "text"
      },
      "source": [
        "<a href=\"https://colab.research.google.com/github/shimshimee/class2021Fall/blob/main/%EC%98%81%EC%96%B4%EC%9D%8C%EC%84%B1%ED%95%99%201108.ipynb\" target=\"_parent\"><img src=\"https://colab.research.google.com/assets/colab-badge.svg\" alt=\"Open In Colab\"/></a>"
      ]
    },
    {
      "cell_type": "markdown",
      "metadata": {
        "id": "ZNcDHU0wI_Zl"
      },
      "source": [
        "# **변수 (variables), 제어문 (syntax), 함수**"
      ]
    },
    {
      "cell_type": "code",
      "metadata": {
        "colab": {
          "base_uri": "https://localhost:8080/"
        },
        "id": "ah6mJfm4Hkcl",
        "outputId": "90b6dedf-2181-4a00-89c9-70926acd3e98"
      },
      "source": [
        "a = 1\n",
        "b = 1.1\n",
        "c = 'apple'\n",
        "d = [1, 2, 3, 'paint']\n",
        "e = {\"apple\": \"red fruit\", \"banana\": \"yellow fruit\"}\n",
        "\n",
        "print(type(a)) #정수\n",
        "print(type(b)) #소수\n",
        "print(type(c)) #문자열\n",
        "print(type(d)) #대괄호\n",
        "print(type(e)) #중괄호\n",
        "\n",
        "print(d[1]) #d의 2번째에 접근, dictionary는 불가\n",
        "print(d[3][0]) #d의 4번째의 1번째에 접근\n",
        "print(e[\"apple\"])"
      ],
      "execution_count": null,
      "outputs": [
        {
          "output_type": "stream",
          "name": "stdout",
          "text": [
            "<class 'int'>\n",
            "<class 'float'>\n",
            "<class 'str'>\n",
            "<class 'list'>\n",
            "<class 'dict'>\n",
            "2\n",
            "p\n",
            "red fruit\n"
          ]
        }
      ]
    },
    {
      "cell_type": "code",
      "metadata": {
        "colab": {
          "base_uri": "https://localhost:8080/"
        },
        "id": "KjZT9WJREsdq",
        "outputId": "a1339e9c-87d2-40f3-b9ab-7ef3d3dd182b"
      },
      "source": [
        "a = [1, 2, 3, 4]\n",
        "for i in a :\n",
        "  print(i)\n",
        "print(i+1) #마지막에 i에 4가 들어갔기 때문에 5가 찍힘"
      ],
      "execution_count": null,
      "outputs": [
        {
          "output_type": "stream",
          "name": "stdout",
          "text": [
            "1\n",
            "2\n",
            "3\n",
            "4\n",
            "5\n"
          ]
        }
      ]
    },
    {
      "cell_type": "code",
      "metadata": {
        "colab": {
          "base_uri": "https://localhost:8080/"
        },
        "id": "VDNdUgSRHCDj",
        "outputId": "0d789702-61ad-4c06-fc80-4505ea67db37"
      },
      "source": [
        "for i in range(4) : #0부터 4개의 숫자\n",
        "  print(i)"
      ],
      "execution_count": null,
      "outputs": [
        {
          "output_type": "stream",
          "name": "stdout",
          "text": [
            "1\n",
            "2\n",
            "3\n",
            "4\n"
          ]
        }
      ]
    },
    {
      "cell_type": "code",
      "metadata": {
        "colab": {
          "base_uri": "https://localhost:8080/"
        },
        "id": "ea6Iz59MKQMR",
        "outputId": "874070d2-3d97-43c4-8eae-77c4f2e5513c"
      },
      "source": [
        "a = [1, 2, 3, 4]\n",
        "for i in range(len(a)) :\n",
        "  print(a[i])"
      ],
      "execution_count": null,
      "outputs": [
        {
          "output_type": "stream",
          "name": "stdout",
          "text": [
            "1\n",
            "2\n",
            "3\n",
            "4\n"
          ]
        }
      ]
    },
    {
      "cell_type": "code",
      "metadata": {
        "colab": {
          "base_uri": "https://localhost:8080/"
        },
        "id": "5ODQDNPfIh6Q",
        "outputId": "dcaed1bd-e2fd-40b1-ba23-9d9d998f392b"
      },
      "source": [
        "a = 1\n",
        "if a == 0 :\n",
        "  print(a)\n",
        "else:\n",
        "  print(a+1)"
      ],
      "execution_count": null,
      "outputs": [
        {
          "output_type": "stream",
          "name": "stdout",
          "text": [
            "2\n"
          ]
        }
      ]
    },
    {
      "cell_type": "code",
      "metadata": {
        "id": "Zw6f9wrBS2in",
        "outputId": "577fe101-28ec-4442-c397-6182b9f35ed6",
        "colab": {
          "base_uri": "https://localhost:8080/"
        }
      },
      "source": [
        "for i in range(1, 3):    #1부터 3 전까지: 1, 2\n",
        "  for j in range(3, 5):  #3부터 5 전까지: 3, 4\n",
        "    print(i*j)           #i(outer loop)가 1인 상태로 j(inner loop)에 3과 4가 들어가고 i가 2인 상태로 j에 3과 4가 들어감"
      ],
      "execution_count": 1,
      "outputs": [
        {
          "output_type": "stream",
          "name": "stdout",
          "text": [
            "3\n",
            "4\n",
            "6\n",
            "8\n"
          ]
        }
      ]
    },
    {
      "cell_type": "code",
      "metadata": {
        "id": "ZjTLhiIBTTOU",
        "outputId": "24bc589a-743a-4640-92c5-37812642d80f",
        "colab": {
          "base_uri": "https://localhost:8080/"
        }
      },
      "source": [
        "for i in range(1, 3):\n",
        "  for j in range(3, 5):\n",
        "    if j >=4:\n",
        "      print(i*j)"
      ],
      "execution_count": 2,
      "outputs": [
        {
          "output_type": "stream",
          "name": "stdout",
          "text": [
            "4\n",
            "8\n"
          ]
        }
      ]
    },
    {
      "cell_type": "markdown",
      "metadata": {
        "id": "hllwba9KUQnz"
      },
      "source": [
        "# **list comprehension**"
      ]
    },
    {
      "cell_type": "code",
      "metadata": {
        "id": "oQCP3Ii_UOR0",
        "outputId": "d71d53b2-8967-4ac9-9ca7-c8d91e0a76b9",
        "colab": {
          "base_uri": "https://localhost:8080/"
        }
      },
      "source": [
        "a = [1, 2, 3, 4]\n",
        "b = [i for i in a if i >=2]\n",
        "b\n",
        "\n",
        "# for i in a\n",
        "# if i >=2: b = [i]"
      ],
      "execution_count": 3,
      "outputs": [
        {
          "output_type": "execute_result",
          "data": {
            "text/plain": [
              "[2, 3, 4]"
            ]
          },
          "metadata": {},
          "execution_count": 3
        }
      ]
    },
    {
      "cell_type": "code",
      "metadata": {
        "id": "s8_DjOeEVV_Y",
        "outputId": "383d4900-5eb6-483d-f011-337df3cc9201",
        "colab": {
          "base_uri": "https://localhost:8080/"
        }
      },
      "source": [
        "a = ['red', 'green', 'blue', 'purple']\n",
        "b = [i for i in a if len(i) >=4]\n",
        "b\n",
        "\n",
        "#길이가 4보다 크면 b의 list에 넣어라"
      ],
      "execution_count": 4,
      "outputs": [
        {
          "output_type": "execute_result",
          "data": {
            "text/plain": [
              "['green', 'blue', 'purple']"
            ]
          },
          "metadata": {},
          "execution_count": 4
        }
      ]
    }
  ]
}