{
  "nbformat": 4,
  "nbformat_minor": 0,
  "metadata": {
    "colab": {
      "name": "Untitled8.ipynb",
      "provenance": [],
      "authorship_tag": "ABX9TyPTPBGaoS8T/vhSkgjS51qM",
      "include_colab_link": true
    },
    "kernelspec": {
      "name": "python3",
      "display_name": "Python 3"
    },
    "language_info": {
      "name": "python"
    }
  },
  "cells": [
    {
      "cell_type": "markdown",
      "metadata": {
        "id": "view-in-github",
        "colab_type": "text"
      },
      "source": [
        "<a href=\"https://colab.research.google.com/github/shimshimee/class2021Fall/blob/main/numpy.ipynb\" target=\"_parent\"><img src=\"https://colab.research.google.com/assets/colab-badge.svg\" alt=\"Open In Colab\"/></a>"
      ]
    },
    {
      "cell_type": "markdown",
      "metadata": {
        "id": "v5gF9Z0hd0of"
      },
      "source": [
        "# **Create nd arrays (=matrices)**"
      ]
    },
    {
      "cell_type": "markdown",
      "metadata": {
        "id": "EmZAbqx5d6m1"
      },
      "source": [
        "행렬: m by n\n",
        "\n",
        "arrays(4D): m by n by k by l"
      ]
    },
    {
      "cell_type": "code",
      "metadata": {
        "id": "XUQudKp_dz7I"
      },
      "source": [
        "import numpy as np"
      ],
      "execution_count": 1,
      "outputs": []
    },
    {
      "cell_type": "code",
      "metadata": {
        "colab": {
          "base_uri": "https://localhost:8080/"
        },
        "id": "GPtnFX0IewbU",
        "outputId": "40983337-118f-48a0-8d16-064b68cda21a"
      },
      "source": [
        "# [[1,2,3], [4,5,6]]: 2D\n",
        "\n",
        "\n",
        "x = np.array([[[1,2,3],[4,5,6]],[[7,8,9],[10,11,12]]])\n",
        "print(x)\n",
        "print(type(x))\n",
        "print(x.shape)    #바깥쪽 괄호부터 몇 개의 성분이 있는지, 숫자가 3개이면 3D"
      ],
      "execution_count": null,
      "outputs": [
        {
          "output_type": "stream",
          "name": "stdout",
          "text": [
            "[[[ 1  2  3]\n",
            "  [ 4  5  6]]\n",
            "\n",
            " [[ 7  8  9]\n",
            "  [10 11 12]]]\n",
            "<class 'numpy.ndarray'>\n",
            "(2, 2, 3)\n"
          ]
        }
      ]
    },
    {
      "cell_type": "code",
      "metadata": {
        "colab": {
          "base_uri": "https://localhost:8080/"
        },
        "id": "0rSi_j-SgAvV",
        "outputId": "34b24620-36d8-455f-ba49-523ccb7c75e2"
      },
      "source": [
        "x = np.arange(0,10,2)    #0부터 10이 되기 전까지 2만큼 증가시킴, 1D\n",
        "print(x)\n",
        "print(type(x))\n",
        "print(x.shape)"
      ],
      "execution_count": null,
      "outputs": [
        {
          "output_type": "stream",
          "name": "stdout",
          "text": [
            "[0 2 4 6 8]\n",
            "<class 'numpy.ndarray'>\n",
            "(5,)\n"
          ]
        }
      ]
    },
    {
      "cell_type": "code",
      "metadata": {
        "colab": {
          "base_uri": "https://localhost:8080/"
        },
        "id": "m6QPWXB_gUN8",
        "outputId": "f18392b1-ae14-452f-c280-d7d32163900f"
      },
      "source": [
        "x = np.linspace(0,10,6)    #0에서 10까지 6개의 숫자, 1D\n",
        "print(x)\n",
        "print(type(x))\n",
        "print(x.shape)"
      ],
      "execution_count": null,
      "outputs": [
        {
          "output_type": "stream",
          "name": "stdout",
          "text": [
            "[ 0.  2.  4.  6.  8. 10.]\n",
            "<class 'numpy.ndarray'>\n",
            "(6,)\n"
          ]
        }
      ]
    },
    {
      "cell_type": "code",
      "metadata": {
        "colab": {
          "base_uri": "https://localhost:8080/"
        },
        "id": "q9thfQashXaT",
        "outputId": "0722b941-756c-4fb7-83cb-d198e759bf4b"
      },
      "source": [
        "x = np.ones([2,2,3])     #1로 채운 2x2x3 행렬을 만듦\n",
        "print(x)\n",
        "print(type(x))\n",
        "print(x.shape)\n",
        "\n",
        "\n",
        "#x = np.zeros([2,2,3])"
      ],
      "execution_count": null,
      "outputs": [
        {
          "output_type": "stream",
          "name": "stdout",
          "text": [
            "[[[1. 1. 1.]\n",
            "  [1. 1. 1.]]\n",
            "\n",
            " [[1. 1. 1.]\n",
            "  [1. 1. 1.]]]\n",
            "<class 'numpy.ndarray'>\n",
            "(2, 2, 3)\n"
          ]
        }
      ]
    },
    {
      "cell_type": "markdown",
      "metadata": {
        "id": "wyoPLhljiSUu"
      },
      "source": [
        "# **Create random numbers**"
      ]
    },
    {
      "cell_type": "code",
      "metadata": {
        "colab": {
          "base_uri": "https://localhost:8080/",
          "height": 652
        },
        "id": "GeYtak_8h72V",
        "outputId": "f6df0cff-2ee6-41ae-fe38-ea89ae7a2a5e"
      },
      "source": [
        "import matplotlib.pyplot as plt\n",
        "\n",
        "x = np.random.normal(0,1,100)    #평균이 0, 표준편차가 1, 크기가 100\n",
        "print(x)\n",
        "plt.hist(x, bins=10)             #e: 10의 거듭제곱 (Ex. e-01: 10의 -1승)"
      ],
      "execution_count": 6,
      "outputs": [
        {
          "output_type": "stream",
          "name": "stdout",
          "text": [
            "[ 2.2806436  -1.00765515 -0.94177769 -0.95803756  0.55576524 -0.75229965\n",
            "  1.50919429  1.17100211 -1.07681752  0.12708299  0.40777045  0.39641834\n",
            "  0.39262875  0.15834723  0.69931563 -1.75942044 -0.78640418 -0.67167775\n",
            "  1.56087707  0.19994576  0.34660256  0.88348132  0.40079774  0.1268565\n",
            "  1.66887225  0.55071096 -0.2276865  -0.4312093  -0.11756309 -0.05342907\n",
            " -0.45513216 -1.41712119  1.39038701 -0.14384373 -2.57935107  1.07538866\n",
            " -0.72524572 -1.18814076 -0.81856374 -0.38394164 -0.03385979 -0.43416889\n",
            "  1.05601527 -0.01167542 -0.72204956  0.37811493 -1.49842881  0.73337478\n",
            " -0.21748179  0.93535913 -0.20054023  0.11824028 -0.54992901 -0.16127091\n",
            "  0.62625492 -0.94675384 -0.01180228 -0.46779557 -0.67867552 -2.38528718\n",
            "  2.02469731 -0.30770935  1.1884243   0.37319618  0.47337276  0.0577738\n",
            " -1.59090987 -0.2872058   0.12624705  0.64479742 -0.20081057 -1.4660865\n",
            " -0.54981361  0.7657493   0.24464099  1.60842028 -0.7320656  -1.37122769\n",
            " -1.09919835 -2.17181074  0.1810275   1.03792577 -0.10427419 -0.4906912\n",
            " -1.63083191 -0.43968285  0.21997339 -1.69984638 -0.33086867 -1.75671911\n",
            " -0.25244617  0.04231828 -0.55315755 -0.85168918 -0.12343499 -1.50849309\n",
            " -0.56747322 -2.18829797 -1.35331199 -0.64618017]\n"
          ]
        },
        {
          "output_type": "execute_result",
          "data": {
            "text/plain": [
              "(array([ 4.,  4.,  8., 16., 20., 19., 15.,  7.,  5.,  2.]),\n",
              " array([-2.57935107, -2.09335161, -1.60735214, -1.12135267, -0.6353532 ,\n",
              "        -0.14935374,  0.33664573,  0.8226452 ,  1.30864466,  1.79464413,\n",
              "         2.2806436 ]),\n",
              " <a list of 10 Patch objects>)"
            ]
          },
          "metadata": {},
          "execution_count": 6
        },
        {
          "output_type": "display_data",
          "data": {
            "image/png": "[encoded data removed]",
            "text/plain": [
              "<Figure size 432x288 with 1 Axes>"
            ]
          },
          "metadata": {
            "needs_background": "light"
          }
        }
      ]
    },
    {
      "cell_type": "markdown",
      "metadata": {
        "id": "pDg1cw_kirNQ"
      },
      "source": [
        "# **Generate a sine curve**"
      ]
    },
    {
      "cell_type": "code",
      "metadata": {
        "colab": {
          "base_uri": "https://localhost:8080/",
          "height": 330
        },
        "id": "WI0lU-vjiz_Q",
        "outputId": "75a2d602-a423-434f-954b-5efa4ef40419"
      },
      "source": [
        "theta = np.linspace(0, 2*np.pi, 100)    #np.pi: numpy에서 pi를 불러옴\n",
        "s = np.sin(theta)                       #sine 함수에 radian(각도)값을 입력\n",
        "plt.plot(theta, s, '.')\n",
        "\n",
        "print(theta.shape)                      #theta 안에 들어 있는 벡터의 길이=점의 개수\n",
        "plt.xlabel('angle (radian)')\n",
        "plt.ylabel('value')\n",
        "plt.title('my first sine curve')"
      ],
      "execution_count": 10,
      "outputs": [
        {
          "output_type": "stream",
          "name": "stdout",
          "text": [
            "(100,)\n"
          ]
        },
        {
          "output_type": "execute_result",
          "data": {
            "text/plain": [
              "Text(0.5, 1.0, 'my first sine curve')"
            ]
          },
          "metadata": {},
          "execution_count": 10
        },
        {
          "output_type": "display_data",
          "data": {
            "image/png": "[encoded data removed]",
            "text/plain": [
              "<Figure size 432x288 with 1 Axes>"
            ]
          },
          "metadata": {
            "needs_background": "light"
          }
        }
      ]
    },
    {
      "cell_type": "code",
      "metadata": {
        "colab": {
          "base_uri": "https://localhost:8080/",
          "height": 282
        },
        "id": "2q_XRivzkkz_",
        "outputId": "cc28dc3a-678f-48b6-ab6a-f4e0540f8cee"
      },
      "source": [
        "theta2 = np.linspace(0, 2*np.pi, 100) + np.pi/2    #90도부터 시작(shift)\n",
        "s2 = np.sin(theta2)\n",
        "plt.plot(theta2, s2, 'k.')"
      ],
      "execution_count": 8,
      "outputs": [
        {
          "output_type": "execute_result",
          "data": {
            "text/plain": [
              "[<matplotlib.lines.Line2D at 0x7f2de8b3a590>]"
            ]
          },
          "metadata": {},
          "execution_count": 8
        },
        {
          "output_type": "display_data",
          "data": {
            "image/png": "[encoded data removed]",
            "text/plain": [
              "<Figure size 432x288 with 1 Axes>"
            ]
          },
          "metadata": {
            "needs_background": "light"
          }
        }
      ]
    },
    {
      "cell_type": "markdown",
      "metadata": {
        "id": "z-9aQ_rGlEZk"
      },
      "source": [
        "phase difference (위상차)"
      ]
    },
    {
      "cell_type": "code",
      "metadata": {
        "colab": {
          "base_uri": "https://localhost:8080/"
        },
        "id": "obzs-Uk7Vtu1",
        "outputId": "c29c6d8f-96cc-484b-9ad4-b8acadca96ef"
      },
      "source": [
        "np.corrcoef(s,s2)\n",
        "\n",
        "#     s   s2\n",
        "# s   1   0\n",
        "# s2  0   1"
      ],
      "execution_count": 12,
      "outputs": [
        {
          "output_type": "execute_result",
          "data": {
            "text/plain": [
              "array([[1.00000000e+00, 2.41915449e-17],\n",
              "       [2.41915449e-17, 1.00000000e+00]])"
            ]
          },
          "metadata": {},
          "execution_count": 12
        }
      ]
    }
  ]
}