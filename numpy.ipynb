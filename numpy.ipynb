{
  "nbformat": 4,
  "nbformat_minor": 0,
  "metadata": {
    "colab": {
      "name": "Untitled8.ipynb",
      "provenance": [],
      "authorship_tag": "ABX9TyM8TujmmEjgXvgrxGm7I/QA",
      "include_colab_link": true
    },
    "kernelspec": {
      "name": "python3",
      "display_name": "Python 3"
    },
    "language_info": {
      "name": "python"
    }
  },
  "cells": [
    {
      "cell_type": "markdown",
      "metadata": {
        "id": "view-in-github",
        "colab_type": "text"
      },
      "source": [
        "<a href=\"https://colab.research.google.com/github/shimshimee/class2021Fall/blob/main/numpy.ipynb\" target=\"_parent\"><img src=\"https://colab.research.google.com/assets/colab-badge.svg\" alt=\"Open In Colab\"/></a>"
      ]
    },
    {
      "cell_type": "markdown",
      "metadata": {
        "id": "v5gF9Z0hd0of"
      },
      "source": [
        "# **Create nd arrays (=matrices)**"
      ]
    },
    {
      "cell_type": "markdown",
      "metadata": {
        "id": "EmZAbqx5d6m1"
      },
      "source": [
        "행렬: m by n\n",
        "\n",
        "arrays(4D): m by n by k by l"
      ]
    },
    {
      "cell_type": "code",
      "metadata": {
        "id": "XUQudKp_dz7I"
      },
      "source": [
        "import numpy as np"
      ],
      "execution_count": 1,
      "outputs": []
    },
    {
      "cell_type": "code",
      "metadata": {
        "colab": {
          "base_uri": "https://localhost:8080/"
        },
        "id": "GPtnFX0IewbU",
        "outputId": "40983337-118f-48a0-8d16-064b68cda21a"
      },
      "source": [
        "# [[1,2,3], [4,5,6]]: 2D\n",
        "\n",
        "\n",
        "x = np.array([[[1,2,3],[4,5,6]],[[7,8,9],[10,11,12]]])\n",
        "print(x)\n",
        "print(type(x))\n",
        "print(x.shape)    #바깥쪽 괄호부터 몇 개의 성분이 있는지, 숫자가 3개이면 3D"
      ],
      "execution_count": 5,
      "outputs": [
        {
          "output_type": "stream",
          "name": "stdout",
          "text": [
            "[[[ 1  2  3]\n",
            "  [ 4  5  6]]\n",
            "\n",
            " [[ 7  8  9]\n",
            "  [10 11 12]]]\n",
            "<class 'numpy.ndarray'>\n",
            "(2, 2, 3)\n"
          ]
        }
      ]
    },
    {
      "cell_type": "code",
      "metadata": {
        "colab": {
          "base_uri": "https://localhost:8080/"
        },
        "id": "0rSi_j-SgAvV",
        "outputId": "34b24620-36d8-455f-ba49-523ccb7c75e2"
      },
      "source": [
        "x = np.arange(0,10,2)    #0부터 10이 되기 전까지 2만큼 증가시킴, 1D\n",
        "print(x)\n",
        "print(type(x))\n",
        "print(x.shape)"
      ],
      "execution_count": 7,
      "outputs": [
        {
          "output_type": "stream",
          "name": "stdout",
          "text": [
            "[0 2 4 6 8]\n",
            "<class 'numpy.ndarray'>\n",
            "(5,)\n"
          ]
        }
      ]
    },
    {
      "cell_type": "code",
      "metadata": {
        "colab": {
          "base_uri": "https://localhost:8080/"
        },
        "id": "m6QPWXB_gUN8",
        "outputId": "f18392b1-ae14-452f-c280-d7d32163900f"
      },
      "source": [
        "x = np.linspace(0,10,6)    #0에서 10까지 6개의 숫자, 1D\n",
        "print(x)\n",
        "print(type(x))\n",
        "print(x.shape)"
      ],
      "execution_count": 10,
      "outputs": [
        {
          "output_type": "stream",
          "name": "stdout",
          "text": [
            "[ 0.  2.  4.  6.  8. 10.]\n",
            "<class 'numpy.ndarray'>\n",
            "(6,)\n"
          ]
        }
      ]
    },
    {
      "cell_type": "code",
      "metadata": {
        "colab": {
          "base_uri": "https://localhost:8080/"
        },
        "id": "q9thfQashXaT",
        "outputId": "0722b941-756c-4fb7-83cb-d198e759bf4b"
      },
      "source": [
        "x = np.ones([2,2,3])     #1로 채운 2x2x3 행렬을 만듦\n",
        "print(x)\n",
        "print(type(x))\n",
        "print(x.shape)\n",
        "\n",
        "\n",
        "#x = np.zeros([2,2,3])"
      ],
      "execution_count": 12,
      "outputs": [
        {
          "output_type": "stream",
          "name": "stdout",
          "text": [
            "[[[1. 1. 1.]\n",
            "  [1. 1. 1.]]\n",
            "\n",
            " [[1. 1. 1.]\n",
            "  [1. 1. 1.]]]\n",
            "<class 'numpy.ndarray'>\n",
            "(2, 2, 3)\n"
          ]
        }
      ]
    },
    {
      "cell_type": "markdown",
      "metadata": {
        "id": "wyoPLhljiSUu"
      },
      "source": [
        "# **Create random numbers**"
      ]
    },
    {
      "cell_type": "code",
      "metadata": {
        "colab": {
          "base_uri": "https://localhost:8080/",
          "height": 652
        },
        "id": "GeYtak_8h72V",
        "outputId": "c76bf5f3-2eae-42ff-8afa-d7ff991a1e32"
      },
      "source": [
        "import matplotlib.pyplot as plt\n",
        "\n",
        "x = np.random.normal(0,1,100)    #평균이 0, 표준편차가 1, 크기가 100\n",
        "print(x)\n",
        "plt.hist(x, bins=10)"
      ],
      "execution_count": 18,
      "outputs": [
        {
          "output_type": "stream",
          "name": "stdout",
          "text": [
            "[-3.01048921 -1.86331829 -1.35372544 -0.21594632  0.13122992 -0.48549706\n",
            " -0.22934102 -0.02998621  0.54071048  0.11294287 -0.61682054  0.2830478\n",
            "  0.8048658  -1.62318459  1.27659433 -0.30870788  2.67798426 -0.30657536\n",
            " -0.52681545 -0.20376173  0.2153322   0.68736998  0.87538637 -0.38324862\n",
            "  2.06279715  1.46217608  0.48380746 -0.74423842 -0.3501444   0.54916669\n",
            " -0.08702128 -0.050095    0.74275948  0.9144753  -0.8656156   0.25621381\n",
            " -1.30494707  0.03306972  1.06047575  0.4004306   0.00508738  0.47704366\n",
            "  0.04538791  0.57727175 -1.46690701  1.96065637 -0.06675703  2.0739662\n",
            " -0.11940619  0.34772331  1.42424209  0.50950122 -0.73613402 -1.59151229\n",
            "  0.46201691 -1.23408919 -0.08606449  0.7675586   2.40209572  1.42439661\n",
            " -0.45303039 -1.12517664  0.10666373  1.1857098   0.53415602  0.87711006\n",
            " -0.33629562 -0.03398139  1.68070928 -0.72105062 -0.25893258  1.08558259\n",
            "  0.43575708  1.46867919  1.92886621  1.52337382  2.10252332  0.4620861\n",
            " -0.99554453  0.31578467 -1.03011264  0.54741382 -0.91854416 -0.6817034\n",
            "  0.18884933  0.95751364 -0.47732419  1.25911803  1.25736877  0.85361998\n",
            "  0.17757549 -0.68368651  0.94350988 -0.76346609  0.12623318 -0.37740934\n",
            " -0.56834515  0.3441317  -0.57562646 -2.03338012]\n"
          ]
        },
        {
          "output_type": "execute_result",
          "data": {
            "text/plain": [
              "(array([ 1.,  1.,  6.,  9., 20., 23., 21., 11.,  6.,  2.]),\n",
              " array([-3.01048921, -2.44164186, -1.87279451, -1.30394717, -0.73509982,\n",
              "        -0.16625247,  0.40259487,  0.97144222,  1.54028957,  2.10913692,\n",
              "         2.67798426]),\n",
              " <a list of 10 Patch objects>)"
            ]
          },
          "metadata": {},
          "execution_count": 18
        },
        {
          "output_type": "display_data",
          "data": {
            "image/png": "[encoded data removed]",
            "text/plain": [
              "<Figure size 432x288 with 1 Axes>"
            ]
          },
          "metadata": {
            "needs_background": "light"
          }
        }
      ]
    },
    {
      "cell_type": "markdown",
      "metadata": {
        "id": "pDg1cw_kirNQ"
      },
      "source": [
        "# **Generate a sine curve**"
      ]
    },
    {
      "cell_type": "code",
      "metadata": {
        "colab": {
          "base_uri": "https://localhost:8080/",
          "height": 330
        },
        "id": "WI0lU-vjiz_Q",
        "outputId": "7e1dc408-428d-4019-97eb-13f61fec19f3"
      },
      "source": [
        "theta = np.linspace(0, 2*np.pi, 100)    #np.pi: numpy에서 pi를 불러옴\n",
        "s = np.sin(theta)\n",
        "plt.plot(theta, s, '.')\n",
        "\n",
        "print(theta.shape)                      #theta 안에 들어 있는 벡터의 길이=점의 개수\n",
        "plt.xlabel('angle (radian)')\n",
        "plt.ylabel('value')\n",
        "plt.title('my first sine curve')"
      ],
      "execution_count": 26,
      "outputs": [
        {
          "output_type": "stream",
          "name": "stdout",
          "text": [
            "(100,)\n"
          ]
        },
        {
          "output_type": "execute_result",
          "data": {
            "text/plain": [
              "Text(0.5, 1.0, 'my first sine curve')"
            ]
          },
          "metadata": {},
          "execution_count": 26
        },
        {
          "output_type": "display_data",
          "data": {
            "image/png": "[encoded data removed]",
            "text/plain": [
              "<Figure size 432x288 with 1 Axes>"
            ]
          },
          "metadata": {
            "needs_background": "light"
          }
        }
      ]
    },
    {
      "cell_type": "code",
      "metadata": {
        "colab": {
          "base_uri": "https://localhost:8080/",
          "height": 282
        },
        "id": "2q_XRivzkkz_",
        "outputId": "1d36cb6d-d518-48ff-9937-cefcaadd8222"
      },
      "source": [
        "theta2 = np.linspace(0, 2*np.pi, 100) + np.pi/2    #90도부터 시작(shift)\n",
        "s2 = np.sin(theta2)\n",
        "plt.plot(theta2, s2, 'k.')"
      ],
      "execution_count": 30,
      "outputs": [
        {
          "output_type": "execute_result",
          "data": {
            "text/plain": [
              "[<matplotlib.lines.Line2D at 0x7fe9aeb80a90>]"
            ]
          },
          "metadata": {},
          "execution_count": 30
        },
        {
          "output_type": "display_data",
          "data": {
            "image/png": "[encoded data removed]",
            "text/plain": [
              "<Figure size 432x288 with 1 Axes>"
            ]
          },
          "metadata": {
            "needs_background": "light"
          }
        }
      ]
    },
    {
      "cell_type": "markdown",
      "metadata": {
        "id": "z-9aQ_rGlEZk"
      },
      "source": [
        "phase difference (위상차)"
      ]
    }
  ]
}