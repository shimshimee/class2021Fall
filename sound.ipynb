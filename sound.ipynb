{
  "nbformat": 4,
  "nbformat_minor": 0,
  "metadata": {
    "colab": {
      "name": "sound.ipynb",
      "provenance": [],
      "authorship_tag": "ABX9TyPko2FCuLEkDeUaEpcpc+dN",
      "include_colab_link": true
    },
    "kernelspec": {
      "name": "python3",
      "display_name": "Python 3"
    },
    "language_info": {
      "name": "python"
    }
  },
  "cells": [
    {
      "cell_type": "markdown",
      "metadata": {
        "id": "view-in-github",
        "colab_type": "text"
      },
      "source": [
        "<a href=\"https://colab.research.google.com/github/shimshimee/class2021Fall/blob/main/sound.ipynb\" target=\"_parent\"><img src=\"https://colab.research.google.com/assets/colab-badge.svg\" alt=\"Open In Colab\"/></a>"
      ]
    },
    {
      "cell_type": "code",
      "metadata": {
        "id": "MmTQKbotPkrl"
      },
      "source": [
        "import numpy as np\n",
        "import matplotlib.pyplot as plt\n",
        "import IPython.display as ipd"
      ],
      "execution_count": 1,
      "outputs": []
    },
    {
      "cell_type": "code",
      "metadata": {
        "id": "cIlp-99sPnST"
      },
      "source": [
        "def phasor_sine(amp, sr, dur, freq, phase):\n",
        "  t = np.arange(1, sr * dur+1)/sr\n",
        "  theta = t * 2*np.pi * freq + phase\n",
        "  s = amp * np.sin(theta)\n",
        "  return s, t, theta"
      ],
      "execution_count": 2,
      "outputs": []
    },
    {
      "cell_type": "code",
      "metadata": {
        "colab": {
          "base_uri": "https://localhost:8080/",
          "height": 75
        },
        "id": "7JTxIzciPqVZ",
        "outputId": "9b16be6b-44c8-4a31-acd8-4839157e6f7a"
      },
      "source": [
        "amp = 1; sr = 10000; dur = 1; freq = 440; phase = 0\n",
        "s, t, theta = phasor_sine(amp, sr, dur, freq, phase)\n",
        "ipd.Audio(s, rate=sr)"
      ],
      "execution_count": 3,
      "outputs": [
        {
          "output_type": "execute_result",
          "data": {
            "text/html": [
              "\n",
              "                <audio controls=\"controls\" >\n",
              "                    <source src=\"data:audio/wav;base64,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\" type=\"audio/wav\" />\n",
              "                    Your browser does not support the audio element.\n",
              "                </audio>\n",
              "              "
            ],
            "text/plain": [
              "<IPython.lib.display.Audio object>"
            ]
          },
          "metadata": {},
          "execution_count": 3
        }
      ]
    },
    {
      "cell_type": "markdown",
      "metadata": {
        "id": "C6ya8V7xPu9J"
      },
      "source": [
        "# **Dividing signal by the window size and step**"
      ]
    },
    {
      "cell_type": "code",
      "metadata": {
        "id": "0zdjiqgaPuo3"
      },
      "source": [
        "def frame_signal(signal, srate, win_size, win_step):\n",
        "    frame_size = int(win_size * srate)\n",
        "    frame_step = int(win_step * srate)\n",
        "\n",
        "    # Get number of frames\n",
        "    num_frames = int(np.ceil(np.abs(len(signal) - frame_size) / frame_step))\n",
        "    # Pad signal\n",
        "    pad_len = num_frames * frame_step + frame_size\n",
        "    pad = np.zeros((pad_len - len(signal)))\n",
        "    signal_padded = np.append(signal, pad)\n",
        "    # Get within-frame sample indices\n",
        "    idx1 = np.tile(np.arange(0, frame_size), (num_frames, 1))\n",
        "    # Get vectors of frame_step increments\n",
        "    idx2 = np.tile(np.arange(0, num_frames * frame_step, frame_step),\n",
        "                   (frame_size, 1)).T\n",
        "    # Get total indices divided by each frame\n",
        "    indices = idx1 + idx2\n",
        "    # Get frames divided by each frame based on indices\n",
        "    frames = signal_padded[indices.astype(np.int32, copy=False)]\n",
        "#     if cutoff is not None:\n",
        "#         cutoff_bin = round(cutoff * nfft / (srate))  # hz -> bin\n",
        "#         frames = frames[:, :cutoff_bin]\n",
        "    return frames"
      ],
      "execution_count": 8,
      "outputs": []
    },
    {
      "cell_type": "markdown",
      "metadata": {
        "id": "3ZW5bHYiQNhF"
      },
      "source": [
        "# **Load a wav file and frame signal**"
      ]
    },
    {
      "cell_type": "code",
      "metadata": {
        "colab": {
          "base_uri": "https://localhost:8080/",
          "height": 351
        },
        "id": "m5Nbai1bQJCi",
        "outputId": "1cd13f2a-bb5a-441e-f365-bbef7593a243"
      },
      "source": [
        "from scipy.io import wavfile\n",
        "sr, s = wavfile.read('a.wav')\n",
        "\n",
        "s = s/np.max(np.abs(s))\n",
        "t = np.arange(1, len(s)+1)/sr\n",
        "\n",
        "win_size = 0.05\n",
        "win_step = 0.05\n",
        "\n",
        "frames = frame_signal(s, sr, win_size, win_step)\n",
        "framesT = np.arange(frames.shape[0]) * win_step + win_size/2\n",
        "\n",
        "ipd.Audio(s, rate=sr)"
      ],
      "execution_count": 9,
      "outputs": [
        {
          "output_type": "error",
          "ename": "FileNotFoundError",
          "evalue": "ignored",
          "traceback": [
            "\u001b[0;31m---------------------------------------------------------------------------\u001b[0m",
            "\u001b[0;31mFileNotFoundError\u001b[0m                         Traceback (most recent call last)",
            "\u001b[0;32m<ipython-input-9-0213ff430709>\u001b[0m in \u001b[0;36m<module>\u001b[0;34m()\u001b[0m\n\u001b[1;32m      1\u001b[0m \u001b[0;32mfrom\u001b[0m \u001b[0mscipy\u001b[0m\u001b[0;34m.\u001b[0m\u001b[0mio\u001b[0m \u001b[0;32mimport\u001b[0m \u001b[0mwavfile\u001b[0m\u001b[0;34m\u001b[0m\u001b[0;34m\u001b[0m\u001b[0m\n\u001b[0;32m----> 2\u001b[0;31m \u001b[0msr\u001b[0m\u001b[0;34m,\u001b[0m \u001b[0ms\u001b[0m \u001b[0;34m=\u001b[0m \u001b[0mwavfile\u001b[0m\u001b[0;34m.\u001b[0m\u001b[0mread\u001b[0m\u001b[0;34m(\u001b[0m\u001b[0;34m'a.wav'\u001b[0m\u001b[0;34m)\u001b[0m\u001b[0;34m\u001b[0m\u001b[0;34m\u001b[0m\u001b[0m\n\u001b[0m\u001b[1;32m      3\u001b[0m \u001b[0;34m\u001b[0m\u001b[0m\n\u001b[1;32m      4\u001b[0m \u001b[0ms\u001b[0m \u001b[0;34m=\u001b[0m \u001b[0ms\u001b[0m\u001b[0;34m/\u001b[0m\u001b[0mnp\u001b[0m\u001b[0;34m.\u001b[0m\u001b[0mmax\u001b[0m\u001b[0;34m(\u001b[0m\u001b[0mnp\u001b[0m\u001b[0;34m.\u001b[0m\u001b[0mabs\u001b[0m\u001b[0;34m(\u001b[0m\u001b[0ms\u001b[0m\u001b[0;34m)\u001b[0m\u001b[0;34m)\u001b[0m\u001b[0;34m\u001b[0m\u001b[0;34m\u001b[0m\u001b[0m\n\u001b[1;32m      5\u001b[0m \u001b[0mt\u001b[0m \u001b[0;34m=\u001b[0m \u001b[0mnp\u001b[0m\u001b[0;34m.\u001b[0m\u001b[0marange\u001b[0m\u001b[0;34m(\u001b[0m\u001b[0;36m1\u001b[0m\u001b[0;34m,\u001b[0m \u001b[0mlen\u001b[0m\u001b[0;34m(\u001b[0m\u001b[0ms\u001b[0m\u001b[0;34m)\u001b[0m\u001b[0;34m+\u001b[0m\u001b[0;36m1\u001b[0m\u001b[0;34m)\u001b[0m\u001b[0;34m/\u001b[0m\u001b[0msr\u001b[0m\u001b[0;34m\u001b[0m\u001b[0;34m\u001b[0m\u001b[0m\n",
            "\u001b[0;32m/usr/local/lib/python3.7/dist-packages/scipy/io/wavfile.py\u001b[0m in \u001b[0;36mread\u001b[0;34m(filename, mmap)\u001b[0m\n\u001b[1;32m    262\u001b[0m         \u001b[0mmmap\u001b[0m \u001b[0;34m=\u001b[0m \u001b[0;32mFalse\u001b[0m\u001b[0;34m\u001b[0m\u001b[0;34m\u001b[0m\u001b[0m\n\u001b[1;32m    263\u001b[0m     \u001b[0;32melse\u001b[0m\u001b[0;34m:\u001b[0m\u001b[0;34m\u001b[0m\u001b[0;34m\u001b[0m\u001b[0m\n\u001b[0;32m--> 264\u001b[0;31m         \u001b[0mfid\u001b[0m \u001b[0;34m=\u001b[0m \u001b[0mopen\u001b[0m\u001b[0;34m(\u001b[0m\u001b[0mfilename\u001b[0m\u001b[0;34m,\u001b[0m \u001b[0;34m'rb'\u001b[0m\u001b[0;34m)\u001b[0m\u001b[0;34m\u001b[0m\u001b[0;34m\u001b[0m\u001b[0m\n\u001b[0m\u001b[1;32m    265\u001b[0m \u001b[0;34m\u001b[0m\u001b[0m\n\u001b[1;32m    266\u001b[0m     \u001b[0;32mtry\u001b[0m\u001b[0;34m:\u001b[0m\u001b[0;34m\u001b[0m\u001b[0;34m\u001b[0m\u001b[0m\n",
            "\u001b[0;31mFileNotFoundError\u001b[0m: [Errno 2] No such file or directory: 'a.wav'"
          ]
        }
      ]
    },
    {
      "cell_type": "markdown",
      "metadata": {
        "id": "c_PqZHqkSGfm"
      },
      "source": [
        "# **Intensity by RMS**"
      ]
    },
    {
      "cell_type": "code",
      "metadata": {
        "colab": {
          "base_uri": "https://localhost:8080/",
          "height": 232
        },
        "id": "s9_Ya-RGSCwa",
        "outputId": "cb6a9315-20cd-4dad-e5c2-4951c3b06aee"
      },
      "source": [
        "amp = []\n",
        "for frame in frames:\n",
        "  amp.append(np.sqrt(np.mean(frame**2)))\n",
        "\n",
        "plt.subplot(2,1,1)\n",
        "plt.plot(t, s)\n",
        "plt.xlim([0, t[-1]])\n",
        "plt.subplot(2,1,2)\n",
        "plt.plot(framesT, amp, '.')\n",
        "plt.xlim([0, t[-1]])\n",
        "plt.show()"
      ],
      "execution_count": 4,
      "outputs": [
        {
          "output_type": "error",
          "ename": "NameError",
          "evalue": "ignored",
          "traceback": [
            "\u001b[0;31m---------------------------------------------------------------------------\u001b[0m",
            "\u001b[0;31mNameError\u001b[0m                                 Traceback (most recent call last)",
            "\u001b[0;32m<ipython-input-4-eb976a36b6f6>\u001b[0m in \u001b[0;36m<module>\u001b[0;34m()\u001b[0m\n\u001b[1;32m      1\u001b[0m \u001b[0mamp\u001b[0m \u001b[0;34m=\u001b[0m \u001b[0;34m[\u001b[0m\u001b[0;34m]\u001b[0m\u001b[0;34m\u001b[0m\u001b[0;34m\u001b[0m\u001b[0m\n\u001b[0;32m----> 2\u001b[0;31m \u001b[0;32mfor\u001b[0m \u001b[0mframe\u001b[0m \u001b[0;32min\u001b[0m \u001b[0mframes\u001b[0m\u001b[0;34m:\u001b[0m\u001b[0;34m\u001b[0m\u001b[0;34m\u001b[0m\u001b[0m\n\u001b[0m\u001b[1;32m      3\u001b[0m   \u001b[0mamp\u001b[0m\u001b[0;34m.\u001b[0m\u001b[0mappend\u001b[0m\u001b[0;34m(\u001b[0m\u001b[0mnp\u001b[0m\u001b[0;34m.\u001b[0m\u001b[0msqrt\u001b[0m\u001b[0;34m(\u001b[0m\u001b[0mnp\u001b[0m\u001b[0;34m.\u001b[0m\u001b[0mmean\u001b[0m\u001b[0;34m(\u001b[0m\u001b[0mframe\u001b[0m\u001b[0;34m**\u001b[0m\u001b[0;36m2\u001b[0m\u001b[0;34m)\u001b[0m\u001b[0;34m)\u001b[0m\u001b[0;34m)\u001b[0m\u001b[0;34m\u001b[0m\u001b[0;34m\u001b[0m\u001b[0m\n\u001b[1;32m      4\u001b[0m \u001b[0;34m\u001b[0m\u001b[0m\n\u001b[1;32m      5\u001b[0m \u001b[0mplt\u001b[0m\u001b[0;34m.\u001b[0m\u001b[0msubplot\u001b[0m\u001b[0;34m(\u001b[0m\u001b[0;36m2\u001b[0m\u001b[0;34m,\u001b[0m\u001b[0;36m1\u001b[0m\u001b[0;34m,\u001b[0m\u001b[0;36m1\u001b[0m\u001b[0;34m)\u001b[0m\u001b[0;34m\u001b[0m\u001b[0;34m\u001b[0m\u001b[0m\n",
            "\u001b[0;31mNameError\u001b[0m: name 'frames' is not defined"
          ]
        }
      ]
    }
  ]
}